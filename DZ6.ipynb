{
 "cells": [
  {
   "cell_type": "markdown",
   "metadata": {},
   "source": [
    "# Домашнее задание к лекции \"Регулярные выражения\"\n",
    "Для зачета необходимо выполнить 4 задания.  \n",
    "Для зачета с отличием – все."
   ]
  },
  {
   "cell_type": "markdown",
   "metadata": {},
   "source": [
    "## Задание 1"
   ]
  },
  {
   "cell_type": "markdown",
   "metadata": {},
   "source": [
    "Напишите функцию, которая принимает на вход строку и проверяет является ли она валидным транспортным номером. Если да, то функция должна возвращать отдельно номер и регион."
   ]
  },
  {
   "cell_type": "code",
   "execution_count": null,
   "metadata": {},
   "outputs": [],
   "source": [
    "# проверяем частные российские автомобильные номера вида х123хх456\n",
    "import re\n",
    "def check_number():\n",
    "    auto_number = input('Ведите номер автотранспортного средства:')\n",
    "    n = re.findall(r'([авекмнорстух|АВЕКМНОРСТУХ]{1}\\d{3}[авекмнорстух|АВЕКМНОРСТУХ]{2})(\\d{,3})', auto_number)\n",
    "#    n.group()\n",
    "    if n != []:\n",
    "        print ('Номер автомобиля и регион: ', n)\n",
    "    else:\n",
    "        print ('Введеный неверный формат номера автомобиля')\n",
    "    \n",
    "check_number()"
   ]
  },
  {
   "cell_type": "markdown",
   "metadata": {},
   "source": [
    "## Задание 2"
   ]
  },
  {
   "cell_type": "markdown",
   "metadata": {},
   "source": [
    "Напишите функцию, которая проверяет e-mail адрес на валидность по стандарту RFC822: http://www.w3.org/Protocols/rfc822/. Для этого постарайтесь написать (в крайнем случае найти) самый полный шаблон для проверки e-mail адресов через регулярное выражение. Разберитесь и напишите примеры, какие ваш шаблон может не охватить."
   ]
  },
  {
   "cell_type": "code",
   "execution_count": null,
   "metadata": {},
   "outputs": [],
   "source": [
    "# наиболее полный шаблон можно найти на http://www.ex-parrot.com/~pdw/Mail-RFC822-Address.html\n",
    "# я написал для часто встречаюшихся, но не для \"навороченных\" со спецсимволаи\n",
    "def check_email():\n",
    "    in_email = input('Введите адрес email: ')\n",
    "    n = re.match(r'([a-zA-Z0-9_.\\-]{1,255})@(([a-zA-Z0-9_.\\-]+)\\.([a-zA-Z0-9_.\\-]){2,255})', in_email)\n",
    "    if n != None:\n",
    "        print('Адрес валиден')\n",
    "    else:\n",
    "        print('Адрес не валиден')\n",
    "        \n",
    "check_email()"
   ]
  },
  {
   "cell_type": "markdown",
   "metadata": {},
   "source": [
    "## Задание 3\n",
    "При помощи регулярных выражений напишите функцию, которая будет возвращать акроним переданного в нее текста."
   ]
  },
  {
   "cell_type": "code",
   "execution_count": null,
   "metadata": {},
   "outputs": [],
   "source": [
    "def out_akronim():\n",
    "    in_str = input('Введите текст: ')\n",
    "    str_1 = re.findall(r\"\\b[а-яА-я]\", in_str)    # ищем первые буквы\n",
    "    str_2 = [l.upper() for l in str_1]        # переводим в заглавные\n",
    "    out_str = ''.join(str_2)\n",
    "    print(out_str)\n",
    "out_akronim()"
   ]
  },
  {
   "cell_type": "markdown",
   "metadata": {},
   "source": [
    "## Задание 4\n",
    "Напишите функцию, которая будет удалять все последовательные повторы слов из заданной строки."
   ]
  },
  {
   "cell_type": "code",
   "execution_count": null,
   "metadata": {},
   "outputs": [],
   "source": [
    "str = \"Да да, нет нет нет\"\n",
    "def del_consrep(str):\n",
    "    result = re.sub(r\"\\b(\\w+)(\\s+\\1\\b)+\",r'\\1',str, flags = re.I)\n",
    "    print (result)\n",
    "del_consrep(str)"
   ]
  },
  {
   "cell_type": "markdown",
   "metadata": {},
   "source": [
    "## Задание 5\n",
    "Напишите функцию, которая будет проверять номер сотового телефона на валидность, если он валиден, то переводить его в формат:   \n",
    "+7(xxx)-xxx-xx-xx  \n",
    "Постарайтесь предусмотреть как можно больше адекватных форматов изначального ввода номера.\n",
    "Примеры правильных и неправильных форматов:\n",
    "- +1 555 555-55-55;\n",
    "- 5555555555;\n",
    "- 555555555;\n",
    "- 8(555)555-55-55;\n",
    "- +7 555 555 55 55;\n",
    "- 7(555) 555-55-55;\n",
    "- +7 555+555+55+55."
   ]
  },
  {
   "cell_type": "code",
   "execution_count": null,
   "metadata": {},
   "outputs": [],
   "source": [
    "# проверяем номер российского мобильного телефона\n",
    "def rus_mob_num():\n",
    "    num_tel = input('Введите номер мобильного телефона: ')\n",
    "    d_num = re.findall(r\"\\d+\", num_tel)\n",
    "    d1_num = ''.join(d_num)\n",
    "    if len(d1_num) == 11 and d1_num[1] == '9':\n",
    "        n_num = re.sub(r\"(\\d)(\\d{,3})(\\d{,3})(\\d\\d)(\\d\\d)$\",r\"+7(\\2)\\3-\\4-\\5\", d1_num)\n",
    "    elif len(d1_num) == 10 and d1_num[0] == '9':\n",
    "        n_num = re.sub(r\"(\\d{,3})(\\d{,3})(\\d\\d)(\\d\\d)$\",r\"+7(\\1)\\2-\\3-\\4\", d1_num)\n",
    "    else:\n",
    "        n_num = 'not valid'\n",
    "    return n_num\n",
    "rus_mob_num()"
   ]
  }
 ],
 "metadata": {
  "kernelspec": {
   "display_name": "Python 3",
   "language": "python",
   "name": "python3"
  },
  "language_info": {
   "codemirror_mode": {
    "name": "ipython",
    "version": 3
   },
   "file_extension": ".py",
   "mimetype": "text/x-python",
   "name": "python",
   "nbconvert_exporter": "python",
   "pygments_lexer": "ipython3",
   "version": "3.7.3"
  }
 },
 "nbformat": 4,
 "nbformat_minor": 2
}
